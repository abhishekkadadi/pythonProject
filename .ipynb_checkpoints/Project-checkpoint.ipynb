{
 "cells": [
  {
   "cell_type": "code",
   "execution_count": 1,
   "metadata": {
    "collapsed": true
   },
   "outputs": [],
   "source": [
    "import pandas as pd\n",
    "import numpy as np\n",
    "import matplotlib.pyplot as plt\n",
    "from read_in_census_data import CensusInfo, DataFrameWrapper\n",
    "# imports done"
   ]
  },
  {
   "cell_type": "code",
   "execution_count": 2,
   "metadata": {},
   "outputs": [
    {
     "name": "stdout",
     "output_type": "stream",
     "text": [
      "Processing 'Housing Unit Record' Sheet\n",
      "\n",
      "Processing 'Person Record' Sheet\n",
      "\n"
     ]
    }
   ],
   "source": [
    "\n",
    "data_dictionary = '5%_PUMS_record_layout.xls'\n",
    "ci_states = CensusInfo(data_dictionary)\n",
    "states=['alabama','texas','california','florida','illnois','virginia','ohio','alaska','new_york','district_of_colombia']\n",
    "textFiles=['revisedpums1_alabama_01','revisedpums1_48','revisedpums1_06','revisedpums1_12','revisedpums1_17','revisedpums1_51','revisedpums1_39','revisedpums1_02','revisedpums1_36','revisedpums1_11']"
   ]
  },
  {
   "cell_type": "code",
   "execution_count": 3,
   "metadata": {
    "collapsed": true
   },
   "outputs": [],
   "source": [
    "# Creating CSV looping 10 states then commenting out the code\n",
    "# textFilesCounter=0\n",
    "# for loopingState in states:\n",
    "#     one_percent = 'states/'+loopingState+'/'+textFiles[textFilesCounter]+'.txt'\n",
    "#     df = DataFrameWrapper(ci_states)\n",
    "#     df.fill_frame ([], ci_states.person_record, one_percent, ci_states.one_percent_file,'race','education','income','gender','age','relationship')\n",
    "#     df.save_frame('states/'+loopingState+'/'+textFiles[textFilesCounter]+'_extract.csv',header=True)\n",
    "#     textFilesCounter+=1\n",
    "# Creating Csv ends here...!\n"
   ]
  },
  {
   "cell_type": "code",
   "execution_count": 7,
   "metadata": {},
   "outputs": [
    {
     "name": "stdout",
     "output_type": "stream",
     "text": [
      "{'new_york': 34981.0, 'florida': 30028.93, 'virginia': 33246.23, 'alaska': 30830.28, 'california': 34935.23, 'district_of_colombia': 37552.77, 'ohio': 29824.59, 'alabama': 26981.05, 'texas': 29945.09, 'illnois': 32660.88}\n"
     ]
    },
    {
     "data": {
      "image/png": "[encoded data removed]",
      "text/plain": [
       "<matplotlib.figure.Figure at 0x9c64470>"
      ]
     },
     "metadata": {},
     "output_type": "display_data"
    }
   ],
   "source": [
    "# Average Incomes in 10 states\n",
    "dt_dict ={'serial_no':object,'race':object,'gender':object,'relationship':object}\n",
    "avgIncomeDict={}\n",
    "stateDict={}\n",
    "# Lets store states objects to variable.\n",
    "p_df_alabama = pd.read_csv('states/'+states[0]+'/'+textFiles[0]+'_extract.csv',dtype=dt_dict)\n",
    "p_df_texas = pd.read_csv('states/'+states[1]+'/'+textFiles[1]+'_extract.csv',dtype=dt_dict)\n",
    "p_df_california = pd.read_csv('states/'+states[2]+'/'+textFiles[2]+'_extract.csv',dtype=dt_dict)\n",
    "p_df_florida = pd.read_csv('states/'+states[3]+'/'+textFiles[3]+'_extract.csv',dtype=dt_dict)\n",
    "p_df_illnois = pd.read_csv('states/'+states[4]+'/'+textFiles[4]+'_extract.csv',dtype=dt_dict)\n",
    "p_df_virginia = pd.read_csv('states/'+states[5]+'/'+textFiles[5]+'_extract.csv',dtype=dt_dict)\n",
    "p_df_ohio = pd.read_csv('states/'+states[6]+'/'+textFiles[6]+'_extract.csv',dtype=dt_dict)\n",
    "p_df_alaska = pd.read_csv('states/'+states[7]+'/'+textFiles[7]+'_extract.csv',dtype=dt_dict)\n",
    "p_df_new_york = pd.read_csv('states/'+states[8]+'/'+textFiles[8]+'_extract.csv',dtype=dt_dict)\n",
    "p_df_district_of_colombia = pd.read_csv('states/'+states[9]+'/'+textFiles[9]+'_extract.csv',dtype=dt_dict)\n",
    "stateDict={'alabama':p_df_alabama,'texas':p_df_texas,'california':p_df_california,'florida':p_df_florida,'illnois':p_df_illnois,'virginia':p_df_virginia,\\\n",
    "           'ohio':p_df_ohio,'alaska':p_df_alaska,'new_york':p_df_new_york,'district_of_colombia':p_df_district_of_colombia}\n",
    "\n",
    "for loopingState in states:\n",
    "    incomeOf=stateDict[loopingState]\n",
    "    stateIncomeIs=incomeOf[incomeOf['income']>0]['income']\n",
    "    mean=round(stateIncomeIs.mean(),2)\n",
    "    avgIncomeDict[loopingState]=mean\n",
    "print avgIncomeDict\n",
    "plt.suptitle('Average income in 10 states', fontsize=20)\n",
    "plt.bar(range(len(avgIncomeDict)), avgIncomeDict.values(), align='center')\n",
    "plt.xticks(range(len(avgIncomeDict)), avgIncomeDict.keys(),rotation=90)\n",
    "plt.show()\n",
    "# Average income ends"
   ]
  },
  {
   "cell_type": "code",
   "execution_count": null,
   "metadata": {
    "collapsed": true
   },
   "outputs": [],
   "source": []
  }
 ],
 "metadata": {
  "kernelspec": {
   "display_name": "Python 2",
   "language": "python",
   "name": "python2"
  },
  "language_info": {
   "codemirror_mode": {
    "name": "ipython",
    "version": 2
   },
   "file_extension": ".py",
   "mimetype": "text/x-python",
   "name": "python",
   "nbconvert_exporter": "python",
   "pygments_lexer": "ipython2",
   "version": "2.7.13"
  }
 },
 "nbformat": 4,
 "nbformat_minor": 2
}
